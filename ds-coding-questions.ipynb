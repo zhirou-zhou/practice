{
 "cells": [
  {
   "cell_type": "code",
   "execution_count": 4,
   "metadata": {},
   "outputs": [],
   "source": [
    "#1 Largest continuous sum\n",
    "def lar_cont_sum(arr):\n",
    "    if len(arr) == 0:\n",
    "        return 0\n",
    "    \n",
    "    max_sum = arr[0]\n",
    "    current_sum = arr[0]\n",
    "\n",
    "    for num in arr[1:]:\n",
    "        current_sum = max(num, current_sum + num)\n",
    "        max_sum = max(current_sum, max_sum)\n",
    "\n",
    "    print(max_sum)"
   ]
  },
  {
   "cell_type": "code",
   "execution_count": 5,
   "metadata": {},
   "outputs": [
    {
     "output_type": "stream",
     "name": "stdout",
     "text": "110\n"
    }
   ],
   "source": [
    "lar_cont_sum([100, -10, 20, -30])"
   ]
  },
  {
   "cell_type": "code",
   "execution_count": 24,
   "metadata": {},
   "outputs": [],
   "source": [
    "#2 Compress strings\n",
    "def compress_str(s):\n",
    "    comp = \"\"\n",
    "    length = len(s)\n",
    "\n",
    "    if length == 1:\n",
    "        return s + \"1\"\n",
    "\n",
    "    i = 1\n",
    "    count = 1\n",
    "\n",
    "    while i < length:\n",
    "        if s[i] == s[i-1]:\n",
    "            count += 1\n",
    "        else:\n",
    "            comp = comp + s[i-1] + str(count)\n",
    "            count = 1\n",
    "\n",
    "        i += 1\n",
    "    comp = comp + s[i-1] + str(count)\n",
    "    \n",
    "    print(comp)"
   ]
  },
  {
   "cell_type": "code",
   "execution_count": 25,
   "metadata": {},
   "outputs": [
    {
     "output_type": "stream",
     "name": "stdout",
     "text": "A3C4b4\n"
    }
   ],
   "source": [
    "compress_str(\"AAACCCCbbbb\")"
   ]
  },
  {
   "cell_type": "code",
   "execution_count": 26,
   "metadata": {},
   "outputs": [],
   "source": [
    "#3 Stock maximum profit\n"
   ]
  }
 ],
 "metadata": {
  "language_info": {
   "codemirror_mode": {
    "name": "ipython",
    "version": 3
   },
   "file_extension": ".py",
   "mimetype": "text/x-python",
   "name": "python",
   "nbconvert_exporter": "python",
   "pygments_lexer": "ipython3",
   "version": "3.7.3-final"
  },
  "orig_nbformat": 2,
  "kernelspec": {
   "name": "python3",
   "display_name": "Python 3"
  }
 },
 "nbformat": 4,
 "nbformat_minor": 2
}