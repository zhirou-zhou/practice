{
 "cells": [
  {
   "cell_type": "code",
   "execution_count": 31,
   "metadata": {},
   "outputs": [],
   "source": [
    "#1 Largest continuous sum\n",
    "def lar_cont_sum(arr):\n",
    "    if len(arr) == 0:\n",
    "        return 0\n",
    "    \n",
    "    max_sum = arr[0]\n",
    "    current_sum = arr[0]\n",
    "\n",
    "    for num in arr[1:]:\n",
    "        current_sum = max(num, current_sum + num)\n",
    "        max_sum = max(current_sum, max_sum)\n",
    "\n",
    "    print(max_sum)"
   ]
  },
  {
   "cell_type": "code",
   "execution_count": 32,
   "metadata": {},
   "outputs": [
    {
     "output_type": "stream",
     "name": "stdout",
     "text": "110\n"
    }
   ],
   "source": [
    "lar_cont_sum([100, -10, 20, -30])"
   ]
  },
  {
   "cell_type": "code",
   "execution_count": 33,
   "metadata": {},
   "outputs": [],
   "source": [
    "#2 Compress strings\n",
    "def compress_str(s):\n",
    "    comp = \"\"\n",
    "    length = len(s)\n",
    "\n",
    "    if length == 1:\n",
    "        return s + \"1\"\n",
    "\n",
    "    i = 1\n",
    "    count = 1\n",
    "\n",
    "    while i < length:\n",
    "        if s[i] == s[i-1]:\n",
    "            count += 1\n",
    "        else:\n",
    "            comp = comp + s[i-1] + str(count)\n",
    "            count = 1\n",
    "\n",
    "        i += 1\n",
    "    comp = comp + s[i-1] + str(count)\n",
    "    \n",
    "    print(comp)"
   ]
  },
  {
   "cell_type": "code",
   "execution_count": 34,
   "metadata": {},
   "outputs": [
    {
     "output_type": "stream",
     "name": "stdout",
     "text": "A3C4b4\n"
    }
   ],
   "source": [
    "compress_str(\"AAACCCCbbbb\")"
   ]
  },
  {
   "cell_type": "code",
   "execution_count": 4,
   "metadata": {},
   "outputs": [],
   "source": [
    "#3 Stock maximum profit\n",
    "def maxprofit(stock_prices):\n",
    "    if len(stock_prices) < 2:\n",
    "        return \"More prices needed\"\n",
    "\n",
    "    min_price = stock_prices[0]\n",
    "    compare_profit = 0\n",
    "    max_profit = 0\n",
    "\n",
    "    for price in stock_prices:\n",
    "        min_price = min(min_price, price)\n",
    "        compare_profit = price - min_price\n",
    "        max_profit = max(max_profit, compare_profit)\n",
    "\n",
    "    return max_profit"
   ]
  },
  {
   "cell_type": "code",
   "execution_count": 5,
   "metadata": {},
   "outputs": [
    {
     "output_type": "execute_result",
     "data": {
      "text/plain": "8"
     },
     "metadata": {},
     "execution_count": 5
    }
   ],
   "source": [
    "maxprofit([6, 13, 2, 10, 3, 5])"
   ]
  },
  {
   "cell_type": "code",
   "execution_count": 10,
   "metadata": {},
   "outputs": [],
   "source": [
    "#4 Find missing element\n",
    "def find_1(arr1, arr2):\n",
    "    arr1.sort()\n",
    "    arr2.sort()\n",
    "\n",
    "    for num1, num2 in zip(arr1, arr2):\n",
    "        if num1 != num2:\n",
    "            return num1\n",
    "        \n",
    "        return arr1[-1]\n",
    "\n",
    "def find_2(arr1, arr2):\n",
    "    return sum(arr1) - sum(arr2)\n"
   ]
  },
  {
   "cell_type": "code",
   "execution_count": 11,
   "metadata": {},
   "outputs": [
    {
     "output_type": "execute_result",
     "data": {
      "text/plain": "6"
     },
     "metadata": {},
     "execution_count": 11
    }
   ],
   "source": [
    "find_1([1, 2, 3, 6], [1, 2, 3])\n",
    "find_2([1, 2, 3, 6], [1, 2, 3])"
   ]
  }
 ],
 "metadata": {
  "language_info": {
   "codemirror_mode": {
    "name": "ipython",
    "version": 3
   },
   "file_extension": ".py",
   "mimetype": "text/x-python",
   "name": "python",
   "nbconvert_exporter": "python",
   "pygments_lexer": "ipython3",
   "version": "3.7.3-final"
  },
  "orig_nbformat": 2,
  "kernelspec": {
   "name": "python3",
   "display_name": "Python 3"
  }
 },
 "nbformat": 4,
 "nbformat_minor": 2
}